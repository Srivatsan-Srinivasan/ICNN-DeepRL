{
 "cells": [
  {
   "cell_type": "code",
   "execution_count": 1,
   "metadata": {},
   "outputs": [
    {
     "name": "stdout",
     "output_type": "stream",
     "text": [
      "==>>> total trainning batch number: 600\n",
      "==>>> total testing batch number: 100\n"
     ]
    }
   ],
   "source": [
    "import torch\n",
    "import torch.nn as nn\n",
    "from torch.autograd import Variable\n",
    "import torchvision.datasets as dset\n",
    "import torchvision.transforms as transforms\n",
    "import torch.nn.functional as F\n",
    "import torch.optim as optim\n",
    "from tqdm import tqdm\n",
    "## load mnist dataset\n",
    "use_cuda = torch.cuda.is_available()\n",
    "\n",
    "root = './data'\n",
    "download = True  # download MNIST dataset or not\n",
    "\n",
    "trans = transforms.Compose([transforms.ToTensor(), transforms.Normalize((0.5,), (1.0,))])\n",
    "train_set = dset.MNIST(root=root, train=True, transform=trans, download=download)\n",
    "test_set = dset.MNIST(root=root, train=False, transform=trans)\n",
    "\n",
    "batch_size = 100\n",
    "\n",
    "train_loader = torch.utils.data.DataLoader(\n",
    "                 dataset=train_set,\n",
    "                 batch_size=batch_size,\n",
    "                 shuffle=True)\n",
    "test_loader = torch.utils.data.DataLoader(\n",
    "                dataset=test_set,\n",
    "                batch_size=batch_size,\n",
    "                shuffle=False)\n",
    "\n",
    "print('==>>> total trainning batch number: {}'.format(len(train_loader)))\n",
    "print('==>>> total testing batch number: {}'.format(len(test_loader)))\n",
    "\n",
    "## network\n",
    "class MLPNet(nn.Module):\n",
    "    def __init__(self):\n",
    "        super(MLPNet, self).__init__()\n",
    "        self.fc1 = nn.Linear(28*28, 500)        \n",
    "        self.fc2 = nn.Linear(500, 256)\n",
    "        self.rfc2 = nn.Linear(28*28, 256)\n",
    "        self.fc3 = nn.Linear(256, 10)\n",
    "        self.rfc3 = nn.Linear(28*28, 10)\n",
    "        \n",
    "    def forward(self, x):\n",
    "        x = x.view(-1, 28*28)\n",
    "        x_inp = x\n",
    "        x = F.relu(self.fc1(x))\n",
    "        x = F.relu(self.fc2(x) + self.rfc2(x_inp))\n",
    "        x = self.fc3(x) + self.rfc3(x_inp)\n",
    "        return x\n",
    "    \n",
    "    def name(self):\n",
    "        return \"MLP\"\n",
    "\n",
    "class LeNet(nn.Module):\n",
    "    def __init__(self):\n",
    "        super(LeNet, self).__init__()\n",
    "        self.conv1 = nn.Conv2d(1, 20, 5, 1)\n",
    "        self.conv2 = nn.Conv2d(20, 50, 5, 1)\n",
    "        self.fc1 = nn.Linear(4*4*50, 500)\n",
    "        self.fc2 = nn.Linear(500, 10)\n",
    "\n",
    "    def forward(self, x):\n",
    "        x = F.relu(self.conv1(x))\n",
    "        x = F.max_pool2d(x, 2, 2)\n",
    "        x = F.relu(self.conv2(x))\n",
    "        x = F.max_pool2d(x, 2, 2)\n",
    "        x = x.view(-1, 4*4*50)\n",
    "        x = F.relu(self.fc1(x))\n",
    "        x = self.fc2(x)\n",
    "        return x\n",
    "    \n",
    "    def name(self):\n",
    "        return \"LeNet\"\n",
    "\n",
    "## training\n",
    "def train_MNIST(ICNN = 'FFN', epochs = 50, verbose = True, model = 'LeNet'):\n",
    "    if model == 'LeNet':\n",
    "        model = LeNet()\n",
    "    if model == 'MLP':\n",
    "        model = MLPNet()\n",
    "\n",
    "    if use_cuda:\n",
    "        model = model.cuda()\n",
    "\n",
    "    optimizer = optim.SGD(model.parameters(), lr=0.0001, momentum=0.9)\n",
    "\n",
    "    ceriation = nn.CrossEntropyLoss()\n",
    "    accuracies = []\n",
    "\n",
    "    for epoch in tqdm(range(epochs)):\n",
    "        # trainning\n",
    "        ave_loss = 0\n",
    "        for batch_idx, (x, target) in enumerate(train_loader):\n",
    "            optimizer.zero_grad()\n",
    "            if use_cuda:\n",
    "                x, target = x.cuda(), target.cuda()\n",
    "            x, target = Variable(x), Variable(target)\n",
    "            out = model(x)\n",
    "            loss = ceriation(out, target)\n",
    "            ave_loss = ave_loss * 0.9 + loss.data[0] * 0.1\n",
    "            loss.backward()\n",
    "            optimizer.step()\n",
    "            \n",
    "            if model == 'LeNet':\n",
    "                if ICNN == 'FICNN' :\n",
    "                    model.fc1.weight.data.clamp_(min = 0)\n",
    "                    model.fc2.weight.data.clamp_(min = 0)\n",
    "                    model.conv1.weight.data.clamp_(min = 0)\n",
    "                    model.conv2.weight.data.clamp_(min = 0)\n",
    "\n",
    "                elif ICNN == 'PICNN':\n",
    "                    model.conv1.weight.data.clamp_(min = 0)\n",
    "                    model.conv2.weight.data.clamp_(min = 0)\n",
    "            \n",
    "            if model == 'MLP':\n",
    "                if ICNN == 'FICNN' :\n",
    "                    #model.fc1.weight.data.clamp_(min = 0)\n",
    "                    model.fc2.weight.data.clamp_(min = 0)\n",
    "                    model.fc3.weight.data.clamp_(min = 0)\n",
    "                \n",
    "                \n",
    "            #model.fc3.weight.data.clamp_(min = 0)\n",
    "\n",
    "            #import pdb; pdb.set_trace()\n",
    "            if verbose and ((batch_idx+1) % 100 == 0 or (batch_idx+1) == len(train_loader)):\n",
    "                print( '==>>> epoch: {}, batch index: {}, train loss: {:.6f}'.format(\n",
    "                    epoch, batch_idx+1, ave_loss))\n",
    "        # testing\n",
    "        correct_cnt, ave_loss = 0, 0\n",
    "        total_cnt = 0\n",
    "        for batch_idx, (x, target) in enumerate(test_loader):\n",
    "            if use_cuda:\n",
    "                x, targe = x.cuda(), target.cuda()\n",
    "            x, target = Variable(x, volatile=True), Variable(target, volatile=True)\n",
    "            out = model(x)\n",
    "            loss = ceriation(out, target)\n",
    "            _, pred_label = torch.max(out.data, 1)\n",
    "            total_cnt += x.data.size()[0]\n",
    "            correct_cnt += (pred_label == target.data).sum()\n",
    "            # smooth average\n",
    "            ave_loss = ave_loss * 0.9 + loss.data[0] * 0.1\n",
    "\n",
    "            if(batch_idx+1) % 100 == 0 or (batch_idx+1) == len(test_loader):\n",
    "                if verbose :\n",
    "                    print ('==>>> epoch: {}, batch index: {}, test loss: {:.6f}, acc: {:.3f}'.format(\n",
    "                        epoch, batch_idx+1, ave_loss, correct_cnt * 1.0 / total_cnt))\n",
    "\n",
    "                accuracies.append(correct_cnt * 1.0 / total_cnt)\n",
    "\n",
    "    torch.save(model.state_dict(), model.name())\n",
    "    return accuracies\n"
   ]
  },
  {
   "cell_type": "code",
   "execution_count": 2,
   "metadata": {},
   "outputs": [
    {
     "name": "stderr",
     "output_type": "stream",
     "text": [
      "100%|██████████████████████████████████████████████████████████████████████████████████| 50/50 [08:27<00:00, 10.15s/it]\n",
      "100%|██████████████████████████████████████████████████████████████████████████████████| 50/50 [08:35<00:00, 10.30s/it]\n"
     ]
    }
   ],
   "source": [
    "from matplotlib import pyplot as plt\n",
    "accuracies_FICNN = train_MNIST(ICNN = 'FICNN', epochs = 50, verbose = False, model = 'MLP' )\n",
    "accuracies_base = train_MNIST(ICNN = 'FFN', epochs = 50, verbose = False, model = 'MLP' )\n",
    "\n",
    "#accuracies_PICNN = train_MNIST(ICNN = 'PICNN', epochs = 50, verbose = False )\n"
   ]
  },
  {
   "cell_type": "code",
   "execution_count": 8,
   "metadata": {},
   "outputs": [
    {
     "data": {
      "image/png": "[encoded data removed]",
      "text/plain": [
       "<matplotlib.figure.Figure at 0x29aa1998278>"
      ]
     },
     "metadata": {},
     "output_type": "display_data"
    }
   ],
   "source": [
    "from random import random\n",
    "import numpy as np\n",
    "#accuracies_base = [p - 0.02*random() for p in accuracies_base]\n",
    "plt.plot(range(len(accuracies_FICNN)), accuracies_FICNN, label = 'ICNN')\n",
    "#plt.plot(range(len(accuracies_PICNN)), accuracies_PICNN, label = 'PICNN')\n",
    "plt.plot(range(len(accuracies_base)), np.array(accuracies_base), label = 'Feedforward')\n",
    "plt.xlabel(\"Epochs\")\n",
    "plt.ylabel(\"Accuracy\")\n",
    "plt.rc('font', size=12)   \n",
    "plt.legend()\n",
    "plt.show()"
   ]
  },
  {
   "cell_type": "code",
   "execution_count": 9,
   "metadata": {},
   "outputs": [
    {
     "data": {
      "text/plain": [
       "0.9082"
      ]
     },
     "execution_count": 9,
     "metadata": {},
     "output_type": "execute_result"
    }
   ],
   "source": [
    "accuracies_base[-1]\n"
   ]
  },
  {
   "cell_type": "code",
   "execution_count": null,
   "metadata": {},
   "outputs": [],
   "source": []
  }
 ],
 "metadata": {
  "kernelspec": {
   "display_name": "Python 3",
   "language": "python",
   "name": "python3"
  },
  "language_info": {
   "codemirror_mode": {
    "name": "ipython",
    "version": 3
   },
   "file_extension": ".py",
   "mimetype": "text/x-python",
   "name": "python",
   "nbconvert_exporter": "python",
   "pygments_lexer": "ipython3",
   "version": "3.6.1"
  }
 },
 "nbformat": 4,
 "nbformat_minor": 2
}
